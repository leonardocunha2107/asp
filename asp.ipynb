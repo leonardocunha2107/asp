{
 "cells": [
  {
   "cell_type": "code",
   "execution_count": 2,
   "metadata": {},
   "outputs": [
    {
     "ename": "NameError",
     "evalue": "name 'X' is not defined",
     "output_type": "error",
     "traceback": [
      "\u001b[1;31m---------------------------------------------------------------------------\u001b[0m",
      "\u001b[1;31mNameError\u001b[0m                                 Traceback (most recent call last)",
      "\u001b[1;32m<ipython-input-2-00d4d919ea69>\u001b[0m in \u001b[0;36m<module>\u001b[1;34m\u001b[0m\n\u001b[0;32m     11\u001b[0m \u001b[0mss2\u001b[0m\u001b[1;33m=\u001b[0m\u001b[0mread\u001b[0m\u001b[1;33m(\u001b[0m\u001b[0mmat_files\u001b[0m\u001b[1;33m[\u001b[0m\u001b[1;33m-\u001b[0m\u001b[1;36m2\u001b[0m\u001b[1;33m]\u001b[0m\u001b[1;33m)\u001b[0m\u001b[1;33m[\u001b[0m\u001b[1;36m1\u001b[0m\u001b[1;33m]\u001b[0m\u001b[1;33m\u001b[0m\u001b[1;33m\u001b[0m\u001b[0m\n\u001b[0;32m     12\u001b[0m \u001b[0mss3\u001b[0m\u001b[1;33m=\u001b[0m\u001b[0mread\u001b[0m\u001b[1;33m(\u001b[0m\u001b[0mmat_files\u001b[0m\u001b[1;33m[\u001b[0m\u001b[1;33m-\u001b[0m\u001b[1;36m3\u001b[0m\u001b[1;33m]\u001b[0m\u001b[1;33m)\u001b[0m\u001b[1;33m[\u001b[0m\u001b[1;36m1\u001b[0m\u001b[1;33m]\u001b[0m\u001b[1;33m\u001b[0m\u001b[1;33m\u001b[0m\u001b[0m\n\u001b[1;32m---> 13\u001b[1;33m \u001b[0mAudio\u001b[0m\u001b[1;33m(\u001b[0m\u001b[0mX\u001b[0m\u001b[1;33m[\u001b[0m\u001b[1;33m:\u001b[0m\u001b[1;33m,\u001b[0m\u001b[1;36m1\u001b[0m\u001b[1;33m]\u001b[0m\u001b[1;33m,\u001b[0m\u001b[0mrate\u001b[0m\u001b[1;33m=\u001b[0m\u001b[1;36m16000\u001b[0m\u001b[1;33m)\u001b[0m\u001b[1;33m\u001b[0m\u001b[1;33m\u001b[0m\u001b[0m\n\u001b[0m",
      "\u001b[1;31mNameError\u001b[0m: name 'X' is not defined"
     ]
    }
   ],
   "source": [
    "from IPython.display import Audio\n",
    "from scipy.io import loadmat\n",
    "from scipy.io.wavfile import read\n",
    "import os.path as path\n",
    "import os\n",
    "data_folder='dev2/dev2'\n",
    "mat_files=[path.join(data_folder,t) for t in os.listdir(data_folder) if 'wdrums_liverec_250ms_5cm' in t]\n",
    "#a=loadmat(mat_files[1])['A']\n",
    "sX=read(mat_files[0])[1]\n",
    "ss1=read(mat_files[-1])[1]\n",
    "ss2=read(mat_files[-2])[1]\n",
    "ss3=read(mat_files[-3])[1]\n",
    "Audio(X[:,1],rate=16000)"
   ]
  },
  {
   "cell_type": "code",
   "execution_count": 6,
   "metadata": {},
   "outputs": [
    {
     "data": {
      "text/plain": [
       "array([[0.58461475, 0.71346976, 1.00525579],\n",
       "       [0.93557917, 0.77861561, 0.50120205]])"
      ]
     },
     "execution_count": 6,
     "metadata": {},
     "output_type": "execute_result"
    }
   ],
   "source": [
    "loadmat('dev2/dev2/dev2_wdrums_inst_matrix.mat')['A']"
   ]
  },
  {
   "cell_type": "code",
   "execution_count": 15,
   "metadata": {},
   "outputs": [
    {
     "ename": "ModuleNotFoundError",
     "evalue": "No module named 'reload'",
     "output_type": "error",
     "traceback": [
      "\u001b[1;31m---------------------------------------------------------------------------\u001b[0m",
      "\u001b[1;31mModuleNotFoundError\u001b[0m                       Traceback (most recent call last)",
      "\u001b[1;32m<ipython-input-15-ad18d286418b>\u001b[0m in \u001b[0;36m<module>\u001b[1;34m\u001b[0m\n\u001b[0;32m      9\u001b[0m \u001b[0mdata_folder\u001b[0m\u001b[1;33m=\u001b[0m\u001b[1;34m'dev2/dev2'\u001b[0m\u001b[1;33m\u001b[0m\u001b[1;33m\u001b[0m\u001b[0m\n\u001b[0;32m     10\u001b[0m \u001b[1;32mimport\u001b[0m \u001b[0mem\u001b[0m\u001b[1;33m\u001b[0m\u001b[1;33m\u001b[0m\u001b[0m\n\u001b[1;32m---> 11\u001b[1;33m \u001b[1;32mimport\u001b[0m \u001b[0mreload\u001b[0m\u001b[1;33m\u001b[0m\u001b[1;33m\u001b[0m\u001b[0m\n\u001b[0m\u001b[0;32m     12\u001b[0m \u001b[1;33m\u001b[0m\u001b[0m\n\u001b[0;32m     13\u001b[0m \u001b[0mreload\u001b[0m\u001b[1;33m(\u001b[0m\u001b[0mnutils\u001b[0m\u001b[1;33m)\u001b[0m\u001b[1;33m\u001b[0m\u001b[1;33m\u001b[0m\u001b[0m\n",
      "\u001b[1;31mModuleNotFoundError\u001b[0m: No module named 'reload'"
     ]
    }
   ],
   "source": [
    "class VecCal:\n",
    "    def __init__(self,x):\n",
    "        self.x=x\n",
    "    def __call__(self,i):\n",
    "        return self.x[i]\n",
    "\n",
    "from em import hvar\n",
    "from sklearn.decomposition import NMF\n",
    "data_folder='dev2/dev2'\n",
    "import em\n",
    "import reload\n",
    "\n",
    "reload(nutils)\n",
    "from importlib import reload \n",
    "reload(em)\n",
    "\n",
    "def experiment(xfile,sfiles,Afile=None,use_nmf=True,\n",
    "               niter=500,nperseg=1024,Kpj=4,mode='B',norun=False,plot=True,**kwargs):\n",
    "    \n",
    "    ##construct spectrograms\n",
    "    rate,tx=read(xfile)\n",
    "    print(tx.shape)\n",
    "    ts=np.stack([read(aux)[1] for aux in sfiles]).mean(axis=-1)\n",
    "    f,t,Zxx=stft(tx.T,nperseg=nperseg,fs=rate)\n",
    "    _,_,Zs=stft(ts,nperseg=nperseg,fs=rate)\n",
    "    X,strue=np.absolute(Zxx).transpose(1,2,0),np.absolute(Zs).transpose(1,2,0)\n",
    "\n",
    "    F,N,I=X.shape\n",
    "    _,_,J=strue.shape\n",
    "   \n",
    "    K=Kpj*J\n",
    "    part=[np.arange(Kpj*j,Kpj*(j+1)) for j in range(J)]\n",
    "    \n",
    "    ##initialize parameters\n",
    "    A,W,H=None,None,None\n",
    "    if Afile:\n",
    "        A=loadmat(Afile)['A']\n",
    "        A=np.repeat(A[None,:,:],F,axis=0)\n",
    "    if use_nmf:\n",
    "        W,H=np.ones((F,K)),np.ones((K,N))\n",
    "        for i,p in enumerate(part):\n",
    "            nmf=NMF(len(p),beta_loss='itakura-saito',solver='mu')\n",
    "            H[p,:]=nmf.fit_transform(strue[:,:,i].T).T\n",
    "            W[:,p]=nmf.components_.T\n",
    "        \n",
    "        W=W+W.std()/100+W.std()/5*np.random.rand(*W.shape)\n",
    "        H=H+H.std()/100+H.std()/5*np.random.rand(*H.shape)\n",
    "        \n",
    "    if not (Afile and  use_nmf):\n",
    "        An,Wn,Hn,cbn=nutils.generate_params(I,J,K,F,N,part)\n",
    "        if   A is  None: A=An\n",
    "        if W is  None: W=Wn\n",
    "        if  H is  None: H=Hn\n",
    "    \n",
    "    positive=lambda x: (x<=0).sum()==0 \n",
    "    print(all([positive(W),positive(H)]))\n",
    "\n",
    "    if not norun:\n",
    "        Xvar=np.ones((F,I,I))\n",
    "        Xvar[:,np.arange(I),np.arange(I)]=hvar(X)[:,None]\n",
    "\n",
    "        if mode=='B':\n",
    "            shat,Ah,Wh,Hh,cbh,error=em.run(niter,X,A,W,H,part,cb=Xvar,true_s=strue,cb_fix=True)\n",
    "\n",
    "        elif mode =='E':\n",
    "            shat,Ah,Wh,Hh,cbh,error=em.run(niter,X,A,W,H,part,cb=Xvar,true_s=strue,cb_fix=False)\n",
    "        \n",
    "        elif mode =='F':\n",
    "            shat,Ah,Wh,Hh,cbh,error=em.run(niter,X,A,W,H,part,cb=Xvar,true_s=strue,cb_fix=False,isotropic=True)\n",
    "        \n",
    "        if plot:\n",
    "            plt.plot(error[0],label=f'{mode}_A{Afile==None}')\n",
    "    \n",
    "    print(f'{xfile} ran succesfully')\n",
    "    \n",
    "    #return shat,error\n",
    "    return shat,error,Ah,Wh,Hh\n",
    "\n",
    "sfiles=[path.join(data_folder,'dev2_wdrums_inst_'+fn+'.wav') for fn in ['sim_1','sim_2','sim_3']]\n",
    "Afile='dev2/dev2/dev2_wdrums_inst_matrix.mat'\n",
    "xfile=path.join(data_folder,'dev2_wdrums_inst_mix.wav')\n",
    "\n",
    "import em\n",
    "error=[0]*5\n",
    "#read(sfiles[0])\n",
    "NITER=500"
   ]
  },
  {
   "cell_type": "code",
   "execution_count": 43,
   "metadata": {},
   "outputs": [],
   "source": [
    "   "
   ]
  },
  {
   "cell_type": "code",
   "execution_count": 38,
   "metadata": {},
   "outputs": [
    {
     "name": "stdout",
     "output_type": "stream",
     "text": [
      "(160000, 2)\n"
     ]
    },
    {
     "name": "stderr",
     "output_type": "stream",
     "text": [
      "  0%|                                                                                            | 0/1 [00:00<?, ?it/s]"
     ]
    },
    {
     "name": "stdout",
     "output_type": "stream",
     "text": [
      "True\n"
     ]
    },
    {
     "name": "stderr",
     "output_type": "stream",
     "text": [
      "C:\\Users\\leo\\repos\\asp\\em.py:9: RuntimeWarning: invalid value encountered in log\n",
      "  return res.mean(axis=(0,1))\n",
      "100%|████████████████████████████████████████████████████████████████████████████████████| 1/1 [00:01<00:00,  1.09s/it]"
     ]
    },
    {
     "name": "stdout",
     "output_type": "stream",
     "text": [
      "[[[[1.25740988e+04 4.82214963e+03]\n",
      "   [4.82214963e+03 1.92007025e+03]]\n",
      "\n",
      "  [[7.12550973e+04 4.21966423e+04]\n",
      "   [4.21966423e+04 3.66258212e+04]]\n",
      "\n",
      "  [[1.51176303e+04 1.52067076e+04]\n",
      "   [1.52067076e+04 1.87788654e+04]]\n",
      "\n",
      "  ...\n",
      "\n",
      "  [[1.92443471e+04 1.64661226e+04]\n",
      "   [1.64661226e+04 1.88411969e+04]]\n",
      "\n",
      "  [[6.41796989e+03 2.51151351e+03]\n",
      "   [2.51151351e+03 1.10289646e+03]]\n",
      "\n",
      "  [[3.13450508e+03 1.23397455e+03]\n",
      "   [1.23397455e+03 5.78885189e+02]]]\n",
      "\n",
      "\n",
      " [[[5.97929437e+03 2.42436494e+03]\n",
      "   [2.42436494e+03 1.04686761e+03]]\n",
      "\n",
      "  [[1.87396359e+05 8.24713643e+04]\n",
      "   [8.24713643e+04 4.14040043e+04]]\n",
      "\n",
      "  [[2.00889792e+04 1.23046780e+04]\n",
      "   [1.23046780e+04 1.00381520e+04]]\n",
      "\n",
      "  ...\n",
      "\n",
      "  [[2.00067519e+04 1.20555561e+04]\n",
      "   [1.20555561e+04 9.70144366e+03]]\n",
      "\n",
      "  [[3.13572513e+03 1.28421710e+03]\n",
      "   [1.28421710e+03 6.03737018e+02]]\n",
      "\n",
      "  [[1.37355138e+03 5.62167535e+02]\n",
      "   [5.62167535e+02 2.98483516e+02]]]\n",
      "\n",
      "\n",
      " [[[9.03882797e+03 3.89451205e+03]\n",
      "   [3.89451205e+03 1.88948973e+03]]\n",
      "\n",
      "  [[1.56405677e+06 6.72000031e+05]\n",
      "   [6.72000031e+05 2.89920675e+05]]\n",
      "\n",
      "  [[1.26166567e+05 5.49822924e+04]\n",
      "   [5.49822924e+04 2.47917780e+04]]\n",
      "\n",
      "  ...\n",
      "\n",
      "  [[1.10618349e+05 4.81206107e+04]\n",
      "   [4.81206107e+04 2.16295927e+04]]\n",
      "\n",
      "  [[5.21196576e+03 2.19480193e+03]\n",
      "   [2.19480193e+03 1.09478729e+03]]\n",
      "\n",
      "  [[1.76659577e+03 7.17194764e+02]\n",
      "   [7.17194764e+02 4.60772313e+02]]]\n",
      "\n",
      "\n",
      " ...\n",
      "\n",
      "\n",
      " [[[3.40085337e+02 5.10888003e+02]\n",
      "   [5.10888003e+02 8.24229934e+02]]\n",
      "\n",
      "  [[1.68761539e+04 2.66472459e+04]\n",
      "   [2.66472459e+04 4.21346256e+04]]\n",
      "\n",
      "  [[1.61189343e+03 2.52326574e+03]\n",
      "   [2.52326574e+03 4.00844303e+03]]\n",
      "\n",
      "  ...\n",
      "\n",
      "  [[2.37414714e+03 3.73134948e+03]\n",
      "   [3.73134948e+03 5.92311046e+03]]\n",
      "\n",
      "  [[1.91339652e+02 2.75801099e+02]\n",
      "   [2.75801099e+02 4.52682281e+02]]\n",
      "\n",
      "  [[1.07376581e+02 1.43121598e+02]\n",
      "   [1.43121598e+02 2.43020472e+02]]]\n",
      "\n",
      "\n",
      " [[[6.33131033e+03 9.10241625e+03]\n",
      "   [9.10241625e+03 1.50478183e+04]]\n",
      "\n",
      "  [[2.60231059e+05 4.12164428e+05]\n",
      "   [4.12164428e+05 6.54902699e+05]]\n",
      "\n",
      "  [[2.69935957e+04 4.19000775e+04]\n",
      "   [4.19000775e+04 6.71082065e+04]]\n",
      "\n",
      "  ...\n",
      "\n",
      "  [[5.04652351e+04 7.91539326e+04]\n",
      "   [7.91539326e+04 1.26237001e+05]]\n",
      "\n",
      "  [[3.83779710e+03 5.14372233e+03]\n",
      "   [5.14372233e+03 8.76300739e+03]]\n",
      "\n",
      "  [[1.84870547e+03 1.98615335e+03]\n",
      "   [1.98615335e+03 3.75054755e+03]]]\n",
      "\n",
      "\n",
      " [[[2.23998836e+03 3.12335626e+03]\n",
      "   [3.12335626e+03 4.89769092e+03]]\n",
      "\n",
      "  [[1.10680948e+04 1.64861246e+04]\n",
      "   [1.64861246e+04 2.51245555e+04]]\n",
      "\n",
      "  [[1.65938805e+03 2.24529645e+03]\n",
      "   [2.24529645e+03 3.56977568e+03]]\n",
      "\n",
      "  ...\n",
      "\n",
      "  [[1.26124559e+04 1.88041587e+04]\n",
      "   [1.88041587e+04 2.86034836e+04]]\n",
      "\n",
      "  [[1.31623863e+03 1.72637683e+03]\n",
      "   [1.72637683e+03 2.78504818e+03]]\n",
      "\n",
      "  [[7.84224298e+02 9.21918648e+02]\n",
      "   [9.21918648e+02 1.56862805e+03]]]]\n",
      "dev2/dev2\\dev2_wdrums_inst_mix.wav ran succesfully\n"
     ]
    },
    {
     "name": "stderr",
     "output_type": "stream",
     "text": [
      "\n"
     ]
    },
    {
     "data": {
      "image/png": "[encoded data removed]",
      "text/plain": [
       "<Figure size 432x288 with 1 Axes>"
      ]
     },
     "metadata": {
      "needs_background": "light"
     },
     "output_type": "display_data"
    }
   ],
   "source": [
    "reload(em)\n",
    "shat,error[0]=experiment(xfile,sfiles,Afile=Afile,niter=1,use_nmf=True,norun=False,mode='F')"
   ]
  },
  {
   "cell_type": "code",
   "execution_count": 36,
   "metadata": {},
   "outputs": [
    {
     "data": {
      "text/plain": [
       "(array([[-4.29851090e+01, -2.41178133e+01, -2.24994603e+01],\n",
       "        [-1.18004566e+01,  1.62475968e+00,  5.54708548e+00],\n",
       "        [-5.48245013e+00,  4.08552754e-01,  6.01906305e+00],\n",
       "        [-1.99913198e+01, -1.19997549e+01, -6.24484586e+00],\n",
       "        [-9.13627638e+00, -3.60643324e+00,  4.60837679e+00],\n",
       "        [-2.80066000e+01, -2.34036593e+01,  4.70101383e-01],\n",
       "        [-2.05548088e+01, -1.13953748e+01,  7.90621060e-01],\n",
       "        [-2.90681258e+01, -1.76188163e+01, -5.74824861e+00],\n",
       "        [-4.29681175e+01, -2.13057927e+01, -1.99728507e+01],\n",
       "        [-5.61381578e+01, -3.48374968e+01, -3.30554509e+01],\n",
       "        [-5.79525846e+01, -4.97564818e+01, -3.63307286e+01],\n",
       "        [-5.21376016e+01, -4.23153381e+01, -1.98167051e+01],\n",
       "        [-5.15286164e+01, -4.11414594e+01, -2.58593868e+01],\n",
       "        [-4.25038998e+01, -3.01949609e+01, -1.67313360e+01],\n",
       "        [-4.37284681e+01, -3.66040032e+01, -1.12871838e+01],\n",
       "        [-4.48771327e+01, -3.76700408e+01, -1.41300495e+01],\n",
       "        [-4.68278903e+01, -3.96195892e+01, -3.57146925e+01],\n",
       "        [-7.53825821e+01, -6.81520132e+01, -1.52132703e+01],\n",
       "        [-2.35507267e+01, -1.89227270e+01, -1.39688626e+01],\n",
       "        [-2.03783997e+01, -1.15381343e+01, -3.87302516e-01],\n",
       "        [-3.26179677e+01, -2.53601152e+01, -1.06516949e+00],\n",
       "        [-4.08790165e+01, -3.36550395e+01, -1.66520896e+01],\n",
       "        [-3.33242792e+01, -2.39472714e+01, -1.10989247e+01],\n",
       "        [-2.58998816e+01, -1.97077944e+01, -2.09188287e+00],\n",
       "        [-7.77626944e+00, -4.86802600e+00, -5.01051456e-01],\n",
       "        [-2.95951263e+01, -6.40671526e+00, -1.18038887e+00],\n",
       "        [-2.73094943e+01, -1.77915212e+01, -1.31833694e-01],\n",
       "        [-8.26305869e+00, -7.68959130e+00, -9.93665652e-01],\n",
       "        [-1.01748292e+01, -9.37339095e+00, -9.37261459e-01],\n",
       "        [-1.39899309e+01, -7.62365637e+00, -2.82219322e-01],\n",
       "        [-1.08217281e+01, -2.47018888e+00, -3.73748588e-01],\n",
       "        [-1.01350520e+01, -1.13318007e+01, -1.66555917e+00],\n",
       "        [-1.74324733e+01, -2.10497084e+01, -5.36714831e+00],\n",
       "        [-1.85115047e+01, -4.77086997e+00, -3.23906359e-02],\n",
       "        [-1.78779441e+01, -1.75494061e+00, -8.08489193e-01],\n",
       "        [-1.13653879e+01, -1.13006286e+00, -1.01172204e-01],\n",
       "        [-1.16124218e+01, -1.16045783e+01, -1.21161348e-02],\n",
       "        [            nan,             nan,             nan],\n",
       "        [            nan,             nan,             nan],\n",
       "        [            nan,             nan,             nan],\n",
       "        [            nan,             nan,             nan],\n",
       "        [            nan,             nan,             nan],\n",
       "        [            nan,             nan,             nan],\n",
       "        [            nan,             nan,             nan],\n",
       "        [            nan,             nan,             nan],\n",
       "        [            nan,             nan,             nan],\n",
       "        [            nan,             nan,             nan],\n",
       "        [            nan,             nan,             nan],\n",
       "        [            nan,             nan,             nan],\n",
       "        [            nan,             nan,             nan],\n",
       "        [            nan,             nan,             nan],\n",
       "        [            nan,             nan,             nan],\n",
       "        [            nan,             nan,             nan],\n",
       "        [            nan,             nan,             nan],\n",
       "        [            nan,             nan,             nan],\n",
       "        [            nan,             nan,             nan],\n",
       "        [            nan,             nan,             nan],\n",
       "        [            nan,             nan,             nan],\n",
       "        [            nan,             nan,             nan],\n",
       "        [            nan,             nan,             nan],\n",
       "        [            nan,             nan,             nan],\n",
       "        [            nan,             nan,             nan],\n",
       "        [            nan,             nan,             nan],\n",
       "        [            nan,             nan,             nan],\n",
       "        [            nan,             nan,             nan],\n",
       "        [            nan,             nan,             nan],\n",
       "        [            nan,             nan,             nan],\n",
       "        [            nan,             nan,             nan],\n",
       "        [            nan,             nan,             nan],\n",
       "        [            nan,             nan,             nan],\n",
       "        [            nan,             nan,             nan],\n",
       "        [            nan,             nan,             nan],\n",
       "        [            nan,             nan,             nan],\n",
       "        [            nan,             nan,             nan],\n",
       "        [            nan,             nan,             nan],\n",
       "        [            nan,             nan,             nan],\n",
       "        [            nan,             nan,             nan],\n",
       "        [            nan,             nan,             nan],\n",
       "        [            nan,             nan,             nan],\n",
       "        [            nan,             nan,             nan],\n",
       "        [            nan,             nan,             nan],\n",
       "        [            nan,             nan,             nan],\n",
       "        [            nan,             nan,             nan],\n",
       "        [            nan,             nan,             nan],\n",
       "        [            nan,             nan,             nan],\n",
       "        [            nan,             nan,             nan],\n",
       "        [            nan,             nan,             nan],\n",
       "        [            nan,             nan,             nan],\n",
       "        [            nan,             nan,             nan],\n",
       "        [            nan,             nan,             nan],\n",
       "        [            nan,             nan,             nan],\n",
       "        [            nan,             nan,             nan],\n",
       "        [            nan,             nan,             nan],\n",
       "        [            nan,             nan,             nan],\n",
       "        [            nan,             nan,             nan],\n",
       "        [            nan,             nan,             nan],\n",
       "        [            nan,             nan,             nan],\n",
       "        [            nan,             nan,             nan],\n",
       "        [            nan,             nan,             nan],\n",
       "        [            nan,             nan,             nan]]),\n",
       " array([nan, nan, nan, nan, nan, nan, nan, nan, nan, nan, nan, nan, nan,\n",
       "        nan, nan, nan, nan, nan, nan, nan, nan, nan, nan, nan, nan, nan,\n",
       "        nan, nan, nan, nan, nan, nan, nan, nan, nan, nan, nan, nan, nan,\n",
       "        nan, nan, nan, nan, nan, nan, nan, nan, nan, nan, nan, nan, nan,\n",
       "        nan, nan, nan, nan, nan, nan, nan, nan, nan, nan, nan, nan, nan,\n",
       "        nan, nan, nan, nan, nan, nan, nan, nan, nan, nan, nan, nan, nan,\n",
       "        nan, nan, nan, nan, nan, nan, nan, nan, nan, nan, nan, nan, nan,\n",
       "        nan, nan, nan, nan, nan, nan, nan, nan, nan]))"
      ]
     },
     "execution_count": 36,
     "metadata": {},
     "output_type": "execute_result"
    }
   ],
   "source": [
    "err=w"
   ]
  },
  {
   "cell_type": "code",
   "execution_count": 23,
   "metadata": {},
   "outputs": [
    {
     "name": "stdout",
     "output_type": "stream",
     "text": [
      "(160000, 2)\n"
     ]
    },
    {
     "name": "stderr",
     "output_type": "stream",
     "text": [
      "  0%|                                                                                          | 0/500 [00:00<?, ?it/s]C:\\Users\\leo\\repos\\asp\\em.py:8: RuntimeWarning: invalid value encountered in log\n",
      "  res+=np.trace(X[:,:,:,None]@X[:,:,None,:]@np.linalg.inv(cx),axis1=-2,axis2=-1)\n",
      "  7%|█████▊                                                                           | 36/500 [00:33<07:26,  1.04it/s]C:\\Users\\leo\\repos\\asp\\nutils.py:81: RuntimeWarning: invalid value encountered in true_divide\n",
      "  Wnew[:,part[j]]=Wnew[:,part[j]]/norm_j[None,:]\n",
      "C:\\Users\\leo\\anaconda3\\lib\\site-packages\\numpy\\linalg\\linalg.py:2116: RuntimeWarning: invalid value encountered in det\n",
      "  r = _umath_linalg.det(a, signature=signature)\n",
      "100%|████████████████████████████████████████████████████████████████████████████████| 500/500 [07:41<00:00,  1.08it/s]\n"
     ]
    },
    {
     "name": "stdout",
     "output_type": "stream",
     "text": [
      "dev2/dev2\\dev2_wdrums_inst_mix.wav ran succesfully\n",
      "(160000, 2)\n"
     ]
    },
    {
     "name": "stderr",
     "output_type": "stream",
     "text": [
      "  0%|                                                                                          | 0/500 [00:00<?, ?it/s]C:\\Users\\leo\\repos\\asp\\em.py:8: RuntimeWarning: invalid value encountered in log\n",
      "  res+=np.trace(X[:,:,:,None]@X[:,:,None,:]@np.linalg.inv(cx),axis1=-2,axis2=-1)\n",
      "  8%|██████▎                                                                          | 39/500 [00:35<07:08,  1.08it/s]C:\\Users\\leo\\repos\\asp\\nutils.py:81: RuntimeWarning: invalid value encountered in true_divide\n",
      "  Wnew[:,part[j]]=Wnew[:,part[j]]/norm_j[None,:]\n",
      "C:\\Users\\leo\\anaconda3\\lib\\site-packages\\numpy\\linalg\\linalg.py:2116: RuntimeWarning: invalid value encountered in det\n",
      "  r = _umath_linalg.det(a, signature=signature)\n",
      "100%|████████████████████████████████████████████████████████████████████████████████| 500/500 [07:39<00:00,  1.09it/s]\n"
     ]
    },
    {
     "name": "stdout",
     "output_type": "stream",
     "text": [
      "dev2/dev2\\dev2_wdrums_inst_mix.wav ran succesfully\n",
      "(160000, 2)\n"
     ]
    },
    {
     "name": "stderr",
     "output_type": "stream",
     "text": [
      "  0%|                                                                                          | 0/500 [00:00<?, ?it/s]C:\\Users\\leo\\repos\\asp\\em.py:8: RuntimeWarning: invalid value encountered in log\n",
      "  res+=np.trace(X[:,:,:,None]@X[:,:,None,:]@np.linalg.inv(cx),axis1=-2,axis2=-1)\n",
      "  5%|████▏                                                                            | 26/500 [00:23<07:27,  1.06it/s]C:\\Users\\leo\\repos\\asp\\nutils.py:81: RuntimeWarning: invalid value encountered in true_divide\n",
      "  Wnew[:,part[j]]=Wnew[:,part[j]]/norm_j[None,:]\n",
      "C:\\Users\\leo\\anaconda3\\lib\\site-packages\\numpy\\linalg\\linalg.py:2116: RuntimeWarning: invalid value encountered in det\n",
      "  r = _umath_linalg.det(a, signature=signature)\n",
      "100%|████████████████████████████████████████████████████████████████████████████████| 500/500 [07:31<00:00,  1.11it/s]\n",
      "  0%|                                                                                          | 0/500 [00:00<?, ?it/s]"
     ]
    },
    {
     "name": "stdout",
     "output_type": "stream",
     "text": [
      "dev2/dev2\\dev2_wdrums_inst_mix.wav ran succesfully\n",
      "(160000, 2)\n"
     ]
    },
    {
     "name": "stderr",
     "output_type": "stream",
     "text": [
      "C:\\Users\\leo\\repos\\asp\\em.py:8: RuntimeWarning: invalid value encountered in log\n",
      "  res+=np.trace(X[:,:,:,None]@X[:,:,None,:]@np.linalg.inv(cx),axis1=-2,axis2=-1)\n",
      "  9%|███████▏                                                                         | 44/500 [00:39<07:00,  1.08it/s]C:\\Users\\leo\\repos\\asp\\nutils.py:81: RuntimeWarning: invalid value encountered in true_divide\n",
      "  Wnew[:,part[j]]=Wnew[:,part[j]]/norm_j[None,:]\n",
      "C:\\Users\\leo\\anaconda3\\lib\\site-packages\\numpy\\linalg\\linalg.py:2116: RuntimeWarning: invalid value encountered in det\n",
      "  r = _umath_linalg.det(a, signature=signature)\n",
      "100%|████████████████████████████████████████████████████████████████████████████████| 500/500 [07:29<00:00,  1.11it/s]\n",
      "  0%|                                                                                          | 0/500 [00:00<?, ?it/s]"
     ]
    },
    {
     "name": "stdout",
     "output_type": "stream",
     "text": [
      "dev2/dev2\\dev2_wdrums_inst_mix.wav ran succesfully\n",
      "(160000, 2)\n"
     ]
    },
    {
     "name": "stderr",
     "output_type": "stream",
     "text": [
      "C:\\Users\\leo\\repos\\asp\\em.py:8: RuntimeWarning: invalid value encountered in log\n",
      "  res+=np.trace(X[:,:,:,None]@X[:,:,None,:]@np.linalg.inv(cx),axis1=-2,axis2=-1)\n",
      "  9%|██████▉                                                                          | 43/500 [00:39<07:03,  1.08it/s]C:\\Users\\leo\\repos\\asp\\nutils.py:81: RuntimeWarning: invalid value encountered in true_divide\n",
      "  Wnew[:,part[j]]=Wnew[:,part[j]]/norm_j[None,:]\n",
      "C:\\Users\\leo\\anaconda3\\lib\\site-packages\\numpy\\linalg\\linalg.py:2116: RuntimeWarning: invalid value encountered in det\n",
      "  r = _umath_linalg.det(a, signature=signature)\n",
      "100%|████████████████████████████████████████████████████████████████████████████████| 500/500 [07:30<00:00,  1.11it/s]"
     ]
    },
    {
     "name": "stdout",
     "output_type": "stream",
     "text": [
      "dev2/dev2\\dev2_wdrums_inst_mix.wav ran succesfully\n"
     ]
    },
    {
     "name": "stderr",
     "output_type": "stream",
     "text": [
      "\n"
     ]
    },
    {
     "data": {
      "text/plain": [
       "<matplotlib.legend.Legend at 0x2be820328e0>"
      ]
     },
     "execution_count": 23,
     "metadata": {},
     "output_type": "execute_result"
    },
    {
     "data": {
      "image/png": "[encoded data removed]",
      "text/plain": [
       "<Figure size 432x288 with 1 Axes>"
      ]
     },
     "metadata": {
      "needs_background": "light"
     },
     "output_type": "display_data"
    }
   ],
   "source": [
    "shat,error[1]=experiment(xfile,sfiles,Afile=Afile,niter=NITER,use_nmf=True,mode='E')\n",
    "shat,error[2]=experiment(xfile,sfiles,Afile=Afile,niter=NITER,use_nmf=True,mode='B')\n",
    "shat,error[3]=experiment(xfile,sfiles,Afile=None,niter=NITER,use_nmf=False,mode='E')\n",
    "shat,error[4]=experiment(xfile,sfiles,Afile=None,niter=NITER,use_nmf=False,mode='B')\n",
    "plt.legend()"
   ]
  },
  {
   "cell_type": "code",
   "execution_count": null,
   "metadata": {},
   "outputs": [],
   "source": [
    "np.sign()"
   ]
  },
  {
   "cell_type": "code",
   "execution_count": 483,
   "metadata": {},
   "outputs": [
    {
     "data": {
      "text/plain": [
       "array([[-16.32028167,  -7.47841134,  -0.51335568],\n",
       "       [-33.30626787, -25.43955744, -10.48014718],\n",
       "       [-63.89554362, -49.51428061, -41.84811552],\n",
       "       ...,\n",
       "       [         nan,          nan,          nan],\n",
       "       [         nan,          nan,          nan],\n",
       "       [         nan,          nan,          nan]])"
      ]
     },
     "execution_count": 483,
     "metadata": {},
     "output_type": "execute_result"
    }
   ],
   "source": [
    "error5"
   ]
  },
  {
   "cell_type": "code",
   "execution_count": 5,
   "metadata": {},
   "outputs": [],
   "source": [
    "from scipy.signal import stft,istft\n",
    "import matplotlib.pyplot as plt\n",
    "import numpy as np\n",
    "\n",
    "import nutils\n",
    "\n",
    "f,t,Zxx=stft(sX.T,nperseg=1024,fs=16000)\n",
    "_,_,Zs1=stft(ss1.T,nperseg=1024,fs=16000)\n",
    "_,_,Zs2=stft(ss2.T,nperseg=1024,fs=16000)\n",
    "_,_,Zs3=stft(ss3.T,nperseg=1024,fs=16000)\n",
    "X,s1,s2,s3=np.absolute(Zxx),np.absolute(Zs1),np.absolute(Zs2),np.absolute(Zs3)\n",
    "strue=np.stack([s1,s2,s3]).mean(axis=1)\n",
    "X,strue=X.transpose(1,2,0),strue.transpose(1,2,0)\n"
   ]
  },
  {
   "cell_type": "code",
   "execution_count": 410,
   "metadata": {},
   "outputs": [
    {
     "data": {
      "text/plain": [
       "(2, 513, 314)"
      ]
     },
     "execution_count": 410,
     "metadata": {},
     "output_type": "execute_result"
    }
   ],
   "source": [
    "s2.shape"
   ]
  },
  {
   "cell_type": "code",
   "execution_count": 8,
   "metadata": {},
   "outputs": [
    {
     "name": "stderr",
     "output_type": "stream",
     "text": [
      "  0%|                                                                                         | 0/1000 [00:00<?, ?it/s]\n"
     ]
    },
    {
     "ename": "ValueError",
     "evalue": "operands could not be broadcast together with shapes (12,314,513) (1,12,314) ",
     "output_type": "error",
     "traceback": [
      "\u001b[1;31m---------------------------------------------------------------------------\u001b[0m",
      "\u001b[1;31mValueError\u001b[0m                                Traceback (most recent call last)",
      "\u001b[1;32m<ipython-input-8-b430f006f605>\u001b[0m in \u001b[0;36m<module>\u001b[1;34m\u001b[0m\n\u001b[0;32m      5\u001b[0m \u001b[0mpart\u001b[0m\u001b[1;33m=\u001b[0m\u001b[1;33m[\u001b[0m\u001b[0mnp\u001b[0m\u001b[1;33m.\u001b[0m\u001b[0marange\u001b[0m\u001b[1;33m(\u001b[0m\u001b[0mKpj\u001b[0m\u001b[1;33m*\u001b[0m\u001b[0mj\u001b[0m\u001b[1;33m,\u001b[0m\u001b[0mKpj\u001b[0m\u001b[1;33m*\u001b[0m\u001b[1;33m(\u001b[0m\u001b[0mj\u001b[0m\u001b[1;33m+\u001b[0m\u001b[1;36m1\u001b[0m\u001b[1;33m)\u001b[0m\u001b[1;33m)\u001b[0m \u001b[1;32mfor\u001b[0m \u001b[0mj\u001b[0m \u001b[1;32min\u001b[0m \u001b[0mrange\u001b[0m\u001b[1;33m(\u001b[0m\u001b[0mJ\u001b[0m\u001b[1;33m)\u001b[0m\u001b[1;33m]\u001b[0m\u001b[1;33m\u001b[0m\u001b[1;33m\u001b[0m\u001b[0m\n\u001b[0;32m      6\u001b[0m \u001b[0mA\u001b[0m\u001b[1;33m,\u001b[0m\u001b[0mW\u001b[0m\u001b[1;33m,\u001b[0m\u001b[0mH\u001b[0m\u001b[1;33m,\u001b[0m\u001b[0mcb\u001b[0m\u001b[1;33m=\u001b[0m\u001b[0mnutils\u001b[0m\u001b[1;33m.\u001b[0m\u001b[0mgenerate_params\u001b[0m\u001b[1;33m(\u001b[0m\u001b[0mI\u001b[0m\u001b[1;33m,\u001b[0m\u001b[0mJ\u001b[0m\u001b[1;33m,\u001b[0m\u001b[0mK\u001b[0m\u001b[1;33m,\u001b[0m\u001b[0mF\u001b[0m\u001b[1;33m,\u001b[0m\u001b[0mN\u001b[0m\u001b[1;33m,\u001b[0m\u001b[0mpart\u001b[0m\u001b[1;33m,\u001b[0m\u001b[1;32mTrue\u001b[0m\u001b[1;33m)\u001b[0m\u001b[1;33m\u001b[0m\u001b[1;33m\u001b[0m\u001b[0m\n\u001b[1;32m----> 7\u001b[1;33m \u001b[0mshat\u001b[0m\u001b[1;33m,\u001b[0m\u001b[0mAh\u001b[0m\u001b[1;33m,\u001b[0m\u001b[0mWh\u001b[0m\u001b[1;33m,\u001b[0m\u001b[0mHh\u001b[0m\u001b[1;33m,\u001b[0m\u001b[0mcbh\u001b[0m\u001b[1;33m,\u001b[0m\u001b[0merror\u001b[0m\u001b[1;33m=\u001b[0m\u001b[0mem\u001b[0m\u001b[1;33m.\u001b[0m\u001b[0mrun\u001b[0m\u001b[1;33m(\u001b[0m\u001b[1;36m1000\u001b[0m\u001b[1;33m,\u001b[0m\u001b[0mX\u001b[0m\u001b[1;33m,\u001b[0m\u001b[0mA\u001b[0m\u001b[1;33m,\u001b[0m\u001b[0mW\u001b[0m\u001b[1;33m,\u001b[0m\u001b[0mH\u001b[0m\u001b[1;33m,\u001b[0m\u001b[0mpart\u001b[0m\u001b[1;33m,\u001b[0m\u001b[0mcb\u001b[0m\u001b[1;33m=\u001b[0m\u001b[0mcb\u001b[0m\u001b[1;33m,\u001b[0m\u001b[0mtrue_s\u001b[0m\u001b[1;33m=\u001b[0m\u001b[0mstrue\u001b[0m\u001b[1;33m)\u001b[0m\u001b[1;33m\u001b[0m\u001b[1;33m\u001b[0m\u001b[0m\n\u001b[0m\u001b[0;32m      8\u001b[0m \u001b[0mplt\u001b[0m\u001b[1;33m.\u001b[0m\u001b[0mplot\u001b[0m\u001b[1;33m(\u001b[0m\u001b[0merror\u001b[0m\u001b[1;33m.\u001b[0m\u001b[0mmean\u001b[0m\u001b[1;33m(\u001b[0m\u001b[0maxis\u001b[0m\u001b[1;33m=\u001b[0m\u001b[1;36m1\u001b[0m\u001b[1;33m)\u001b[0m\u001b[1;33m)\u001b[0m\u001b[1;33m\u001b[0m\u001b[1;33m\u001b[0m\u001b[0m\n",
      "\u001b[1;32m~\\repos\\asp\\em.py\u001b[0m in \u001b[0;36mrun\u001b[1;34m(n_iter, X, A, W, H, part, cb, covb_callable, true_s, cb_fix, isotropic)\u001b[0m\n\u001b[0;32m     26\u001b[0m     \u001b[1;32mfor\u001b[0m \u001b[0mi\u001b[0m \u001b[1;32min\u001b[0m \u001b[0mtqdm\u001b[0m\u001b[1;33m(\u001b[0m\u001b[0mrange\u001b[0m\u001b[1;33m(\u001b[0m\u001b[0mn_iter\u001b[0m\u001b[1;33m)\u001b[0m\u001b[1;33m)\u001b[0m\u001b[1;33m:\u001b[0m\u001b[1;33m\u001b[0m\u001b[1;33m\u001b[0m\u001b[0m\n\u001b[0;32m     27\u001b[0m         \u001b[1;32mif\u001b[0m \u001b[0mcovb_callable\u001b[0m \u001b[1;32mis\u001b[0m \u001b[1;32mNone\u001b[0m\u001b[1;33m:\u001b[0m\u001b[1;33m\u001b[0m\u001b[1;33m\u001b[0m\u001b[0m\n\u001b[1;32m---> 28\u001b[1;33m             \u001b[0mshat\u001b[0m\u001b[1;33m,\u001b[0m\u001b[0mAn\u001b[0m\u001b[1;33m,\u001b[0m\u001b[0mWn\u001b[0m\u001b[1;33m,\u001b[0m\u001b[0mHn\u001b[0m\u001b[1;33m,\u001b[0m\u001b[0mcbnew\u001b[0m\u001b[1;33m=\u001b[0m\u001b[0mem_iter\u001b[0m\u001b[1;33m(\u001b[0m\u001b[0mX\u001b[0m\u001b[1;33m,\u001b[0m\u001b[0mAn\u001b[0m\u001b[1;33m,\u001b[0m\u001b[0mWn\u001b[0m\u001b[1;33m,\u001b[0m\u001b[0mHn\u001b[0m\u001b[1;33m,\u001b[0m\u001b[0mcb\u001b[0m\u001b[1;33m,\u001b[0m\u001b[0mpart\u001b[0m\u001b[1;33m,\u001b[0m\u001b[0misotropic\u001b[0m\u001b[1;33m=\u001b[0m\u001b[0misotropic\u001b[0m\u001b[1;33m)\u001b[0m\u001b[1;33m\u001b[0m\u001b[1;33m\u001b[0m\u001b[0m\n\u001b[0m\u001b[0;32m     29\u001b[0m             \u001b[1;32mif\u001b[0m \u001b[1;32mnot\u001b[0m \u001b[0mcb_fix\u001b[0m\u001b[1;33m:\u001b[0m \u001b[0mcb\u001b[0m\u001b[1;33m=\u001b[0m\u001b[0mcbnew\u001b[0m\u001b[1;33m\u001b[0m\u001b[1;33m\u001b[0m\u001b[0m\n\u001b[0;32m     30\u001b[0m         \u001b[1;32melse\u001b[0m\u001b[1;33m:\u001b[0m\u001b[1;33m\u001b[0m\u001b[1;33m\u001b[0m\u001b[0m\n",
      "\u001b[1;32m~\\repos\\asp\\em.py\u001b[0m in \u001b[0;36mem_iter\u001b[1;34m(X, A, W, H, cov_b, part, isotropic)\u001b[0m\n\u001b[0;32m    102\u001b[0m \u001b[1;33m\u001b[0m\u001b[0m\n\u001b[0;32m    103\u001b[0m     \u001b[0mAnew\u001b[0m\u001b[1;33m=\u001b[0m\u001b[0mRxs\u001b[0m\u001b[1;33m@\u001b[0m\u001b[0mnp\u001b[0m\u001b[1;33m.\u001b[0m\u001b[0mlinalg\u001b[0m\u001b[1;33m.\u001b[0m\u001b[0minv\u001b[0m\u001b[1;33m(\u001b[0m\u001b[0mRss\u001b[0m\u001b[1;33m)\u001b[0m\u001b[1;33m\u001b[0m\u001b[1;33m\u001b[0m\u001b[0m\n\u001b[1;32m--> 104\u001b[1;33m     \u001b[0mWnew\u001b[0m\u001b[1;33m=\u001b[0m\u001b[1;33m(\u001b[0m\u001b[0mT\u001b[0m\u001b[1;33m(\u001b[0m\u001b[0mu\u001b[0m\u001b[1;33m)\u001b[0m\u001b[1;33m/\u001b[0m\u001b[1;33m(\u001b[0m\u001b[0mH\u001b[0m\u001b[1;33m[\u001b[0m\u001b[1;32mNone\u001b[0m\u001b[1;33m,\u001b[0m\u001b[1;33m:\u001b[0m\u001b[1;33m,\u001b[0m\u001b[1;33m:\u001b[0m\u001b[1;33m]\u001b[0m\u001b[1;33m+\u001b[0m\u001b[0mEPS\u001b[0m\u001b[1;33m)\u001b[0m\u001b[1;33m)\u001b[0m\u001b[1;33m.\u001b[0m\u001b[0mmean\u001b[0m\u001b[1;33m(\u001b[0m\u001b[0maxis\u001b[0m\u001b[1;33m=\u001b[0m\u001b[1;33m-\u001b[0m\u001b[1;36m1\u001b[0m\u001b[1;33m)\u001b[0m\u001b[1;33m\u001b[0m\u001b[1;33m\u001b[0m\u001b[0m\n\u001b[0m\u001b[0;32m    105\u001b[0m     \u001b[0mHnew\u001b[0m\u001b[1;33m=\u001b[0m\u001b[1;33m(\u001b[0m\u001b[0mT\u001b[0m\u001b[1;33m(\u001b[0m\u001b[0mu\u001b[0m\u001b[1;33m)\u001b[0m\u001b[1;33m/\u001b[0m\u001b[1;33m(\u001b[0m\u001b[0mW\u001b[0m\u001b[1;33m[\u001b[0m\u001b[1;33m:\u001b[0m\u001b[1;33m,\u001b[0m\u001b[1;33m:\u001b[0m\u001b[1;33m,\u001b[0m\u001b[1;32mNone\u001b[0m\u001b[1;33m]\u001b[0m\u001b[1;33m+\u001b[0m\u001b[0mEPS\u001b[0m\u001b[1;33m)\u001b[0m\u001b[1;33m)\u001b[0m\u001b[1;33m.\u001b[0m\u001b[0mmean\u001b[0m\u001b[1;33m(\u001b[0m\u001b[0maxis\u001b[0m\u001b[1;33m=\u001b[0m\u001b[1;36m0\u001b[0m\u001b[1;33m)\u001b[0m\u001b[1;33m\u001b[0m\u001b[1;33m\u001b[0m\u001b[0m\n\u001b[0;32m    106\u001b[0m \u001b[1;33m\u001b[0m\u001b[0m\n",
      "\u001b[1;31mValueError\u001b[0m: operands could not be broadcast together with shapes (12,314,513) (1,12,314) "
     ]
    }
   ],
   "source": [
    "\n",
    "\n",
    "F,N,I=X.shape\n",
    "_,_,J=strue.shape\n",
    "Kpj=4\n",
    "K=Kpj*J\n",
    "part=[np.arange(Kpj*j,Kpj*(j+1)) for j in range(J)]\n",
    "A,W,H,cb=nutils.generate_params(I,J,K,F,N,part,True)\n",
    "shat,Ah,Wh,Hh,cbh,error=em.run(1000,X,A,W,H,part,cb=cb,true_s=strue)\n",
    "plt.plot(error.mean(axis=1))"
   ]
  },
  {
   "cell_type": "code",
   "execution_count": 472,
   "metadata": {},
   "outputs": [],
   "source": [
    "from utils import sdr\n",
    "from tqdm import tqdm\n",
    "import em\n",
    "\n",
    "\n"
   ]
  },
  {
   "cell_type": "code",
   "execution_count": 139,
   "metadata": {},
   "outputs": [],
   "source": [
    "I,J,K,F,N=2,3,12,200,300\n",
    "from importlib import reload\n",
    "import numpy as np\n",
    "part=[np.arange(i0,i1) for i0,i1 in [(0,4),(4,8),(8,12)]]\n",
    "import nutils\n",
    "\n",
    "reload(nutils)\n",
    "X,strue,A,W,H,cb=nutils.generate_data(I,J,K,F,N,part,True)\n",
    "A2,W2,H2,cb2=nutils.generate_params(I,J,K,F,N,part,True)\n",
    "#W2,H2=np.ones_like(W),np.ones_like(H)\n",
    "#for i,p in enumerate(part):\n",
    "#    a,b,_=is_nmf(strue[:,:,i],len(p),niter=1)\n",
    "#    W[:,p],H[p,:]=a,b"
   ]
  },
  {
   "cell_type": "code",
   "execution_count": 141,
   "metadata": {},
   "outputs": [
    {
     "name": "stdout",
     "output_type": "stream",
     "text": [
      "5.258534511217499e-14\n"
     ]
    }
   ],
   "source": []
  },
  {
   "cell_type": "code",
   "execution_count": 149,
   "metadata": {},
   "outputs": [
    {
     "name": "stderr",
     "output_type": "stream",
     "text": [
      "  0%|                                                                                          | 0/100 [00:00<?, ?it/s]\n"
     ]
    },
    {
     "ename": "AssertionError",
     "evalue": "",
     "output_type": "error",
     "traceback": [
      "\u001b[1;31m---------------------------------------------------------------------------\u001b[0m",
      "\u001b[1;31mAssertionError\u001b[0m                            Traceback (most recent call last)",
      "\u001b[1;32m<ipython-input-149-df95b124388c>\u001b[0m in \u001b[0;36m<module>\u001b[1;34m\u001b[0m\n\u001b[0;32m     22\u001b[0m \u001b[0mreload\u001b[0m\u001b[1;33m(\u001b[0m\u001b[0mnutils\u001b[0m\u001b[1;33m)\u001b[0m\u001b[1;33m\u001b[0m\u001b[1;33m\u001b[0m\u001b[0m\n\u001b[0;32m     23\u001b[0m \u001b[0mA\u001b[0m\u001b[1;33m,\u001b[0m\u001b[0mW\u001b[0m\u001b[1;33m,\u001b[0m\u001b[0mH\u001b[0m\u001b[1;33m=\u001b[0m\u001b[0mnutils\u001b[0m\u001b[1;33m.\u001b[0m\u001b[0mnormalize_parameters\u001b[0m\u001b[1;33m(\u001b[0m\u001b[0mA\u001b[0m\u001b[1;33m,\u001b[0m\u001b[0mW\u001b[0m\u001b[1;33m,\u001b[0m\u001b[0mH\u001b[0m\u001b[1;33m,\u001b[0m\u001b[0mpart\u001b[0m\u001b[1;33m)\u001b[0m\u001b[1;33m\u001b[0m\u001b[1;33m\u001b[0m\u001b[0m\n\u001b[1;32m---> 24\u001b[1;33m \u001b[0merror\u001b[0m\u001b[1;33m,\u001b[0m\u001b[0mshat\u001b[0m\u001b[1;33m=\u001b[0m\u001b[0mmode_run\u001b[0m\u001b[1;33m(\u001b[0m\u001b[0mX\u001b[0m\u001b[1;33m,\u001b[0m\u001b[0mA\u001b[0m\u001b[1;33m,\u001b[0m\u001b[0mW\u001b[0m\u001b[1;33m,\u001b[0m\u001b[0mH\u001b[0m\u001b[1;33m,\u001b[0m\u001b[0mpart\u001b[0m\u001b[1;33m,\u001b[0m\u001b[0mstrue\u001b[0m\u001b[1;33m,\u001b[0m\u001b[0mniter\u001b[0m\u001b[1;33m=\u001b[0m\u001b[1;36m100\u001b[0m\u001b[1;33m,\u001b[0m\u001b[0mmode\u001b[0m\u001b[1;33m=\u001b[0m\u001b[1;34m'B'\u001b[0m\u001b[1;33m)\u001b[0m\u001b[1;33m\u001b[0m\u001b[1;33m\u001b[0m\u001b[0m\n\u001b[0m",
      "\u001b[1;32m<ipython-input-149-df95b124388c>\u001b[0m in \u001b[0;36mmode_run\u001b[1;34m(X, A, W, H, part, strue, mode, niter)\u001b[0m\n\u001b[0;32m      5\u001b[0m \u001b[1;33m\u001b[0m\u001b[0m\n\u001b[0;32m      6\u001b[0m     \u001b[1;32mif\u001b[0m \u001b[0mmode\u001b[0m\u001b[1;33m==\u001b[0m\u001b[1;34m'B'\u001b[0m\u001b[1;33m:\u001b[0m\u001b[1;33m\u001b[0m\u001b[1;33m\u001b[0m\u001b[0m\n\u001b[1;32m----> 7\u001b[1;33m         \u001b[0mshat\u001b[0m\u001b[1;33m,\u001b[0m\u001b[0mAh\u001b[0m\u001b[1;33m,\u001b[0m\u001b[0mWh\u001b[0m\u001b[1;33m,\u001b[0m\u001b[0mHh\u001b[0m\u001b[1;33m,\u001b[0m\u001b[0mcbh\u001b[0m\u001b[1;33m,\u001b[0m\u001b[0merror\u001b[0m\u001b[1;33m=\u001b[0m\u001b[0mem\u001b[0m\u001b[1;33m.\u001b[0m\u001b[0mrun\u001b[0m\u001b[1;33m(\u001b[0m\u001b[0mniter\u001b[0m\u001b[1;33m,\u001b[0m\u001b[0mX\u001b[0m\u001b[1;33m,\u001b[0m\u001b[0mA\u001b[0m\u001b[1;33m,\u001b[0m\u001b[0mW\u001b[0m\u001b[1;33m,\u001b[0m\u001b[0mH\u001b[0m\u001b[1;33m,\u001b[0m\u001b[0mpart\u001b[0m\u001b[1;33m,\u001b[0m\u001b[0mcb\u001b[0m\u001b[1;33m=\u001b[0m\u001b[0mXvar\u001b[0m\u001b[1;33m,\u001b[0m\u001b[0mtrue_s\u001b[0m\u001b[1;33m=\u001b[0m\u001b[0mstrue\u001b[0m\u001b[1;33m,\u001b[0m\u001b[0mcb_fix\u001b[0m\u001b[1;33m=\u001b[0m\u001b[1;32mTrue\u001b[0m\u001b[1;33m)\u001b[0m\u001b[1;33m\u001b[0m\u001b[1;33m\u001b[0m\u001b[0m\n\u001b[0m\u001b[0;32m      8\u001b[0m \u001b[1;33m\u001b[0m\u001b[0m\n\u001b[0;32m      9\u001b[0m     \u001b[1;32melif\u001b[0m \u001b[0mmode\u001b[0m \u001b[1;33m==\u001b[0m\u001b[1;34m'E'\u001b[0m\u001b[1;33m:\u001b[0m\u001b[1;33m\u001b[0m\u001b[1;33m\u001b[0m\u001b[0m\n",
      "\u001b[1;32m~\\repos\\asp\\em.py\u001b[0m in \u001b[0;36mrun\u001b[1;34m(n_iter, X, A, W, H, part, cb, covb_callable, true_s, cb_fix, isotropic)\u001b[0m\n\u001b[0;32m     33\u001b[0m     \u001b[1;32mfor\u001b[0m \u001b[0mi\u001b[0m \u001b[1;32min\u001b[0m \u001b[0mtqdm\u001b[0m\u001b[1;33m(\u001b[0m\u001b[0mrange\u001b[0m\u001b[1;33m(\u001b[0m\u001b[0mn_iter\u001b[0m\u001b[1;33m)\u001b[0m\u001b[1;33m)\u001b[0m\u001b[1;33m:\u001b[0m\u001b[1;33m\u001b[0m\u001b[1;33m\u001b[0m\u001b[0m\n\u001b[0;32m     34\u001b[0m         \u001b[1;32mif\u001b[0m \u001b[0mcovb_callable\u001b[0m \u001b[1;32mis\u001b[0m \u001b[1;32mNone\u001b[0m\u001b[1;33m:\u001b[0m\u001b[1;33m\u001b[0m\u001b[1;33m\u001b[0m\u001b[0m\n\u001b[1;32m---> 35\u001b[1;33m             \u001b[0mshat\u001b[0m\u001b[1;33m,\u001b[0m\u001b[0mAn\u001b[0m\u001b[1;33m,\u001b[0m\u001b[0mWn\u001b[0m\u001b[1;33m,\u001b[0m\u001b[0mHn\u001b[0m\u001b[1;33m,\u001b[0m\u001b[0mcbnew\u001b[0m\u001b[1;33m=\u001b[0m\u001b[0mem_iter\u001b[0m\u001b[1;33m(\u001b[0m\u001b[0mX\u001b[0m\u001b[1;33m,\u001b[0m\u001b[0mAn\u001b[0m\u001b[1;33m,\u001b[0m\u001b[0mWn\u001b[0m\u001b[1;33m,\u001b[0m\u001b[0mHn\u001b[0m\u001b[1;33m,\u001b[0m\u001b[0mcb\u001b[0m\u001b[1;33m,\u001b[0m\u001b[0mpart\u001b[0m\u001b[1;33m,\u001b[0m\u001b[0misotropic\u001b[0m\u001b[1;33m=\u001b[0m\u001b[0misotropic\u001b[0m\u001b[1;33m)\u001b[0m\u001b[1;33m\u001b[0m\u001b[1;33m\u001b[0m\u001b[0m\n\u001b[0m\u001b[0;32m     36\u001b[0m             \u001b[1;32mif\u001b[0m \u001b[1;32mnot\u001b[0m \u001b[0mcb_fix\u001b[0m\u001b[1;33m:\u001b[0m \u001b[0mcb\u001b[0m\u001b[1;33m=\u001b[0m\u001b[0mcbnew\u001b[0m\u001b[1;33m\u001b[0m\u001b[1;33m\u001b[0m\u001b[0m\n\u001b[0;32m     37\u001b[0m         \u001b[1;32melse\u001b[0m\u001b[1;33m:\u001b[0m\u001b[1;33m\u001b[0m\u001b[1;33m\u001b[0m\u001b[0m\n",
      "\u001b[1;32m~\\repos\\asp\\em.py\u001b[0m in \u001b[0;36mem_iter\u001b[1;34m(X, A, W, H, cov_b, part, isotropic)\u001b[0m\n\u001b[0;32m    106\u001b[0m \u001b[1;33m\u001b[0m\u001b[0m\n\u001b[0;32m    107\u001b[0m     \u001b[1;31m##M step\u001b[0m\u001b[1;33m\u001b[0m\u001b[1;33m\u001b[0m\u001b[1;33m\u001b[0m\u001b[0m\n\u001b[1;32m--> 108\u001b[1;33m     \u001b[1;32massert\u001b[0m \u001b[0mpositive\u001b[0m\u001b[1;33m(\u001b[0m\u001b[0mu\u001b[0m\u001b[1;33m)\u001b[0m\u001b[1;33m\u001b[0m\u001b[1;33m\u001b[0m\u001b[0m\n\u001b[0m\u001b[0;32m    109\u001b[0m \u001b[1;33m\u001b[0m\u001b[0m\n\u001b[0;32m    110\u001b[0m \u001b[1;33m\u001b[0m\u001b[0m\n",
      "\u001b[1;31mAssertionError\u001b[0m: "
     ]
    }
   ],
   "source": [
    "import matplotlib.pyplot as plt\n",
    "def mode_run(X,A,W,H,part,strue=None,mode='F',niter=10):\n",
    "    Xvar=np.ones((F,I,I))\n",
    "    Xvar[:,np.arange(I),np.arange(I)]=em.hvar(X)[:,None]\n",
    "\n",
    "    if mode=='B':\n",
    "        shat,Ah,Wh,Hh,cbh,error=em.run(niter,X,A,W,H,part,cb=Xvar,true_s=strue,cb_fix=True)\n",
    "\n",
    "    elif mode =='E':\n",
    "        shat,Ah,Wh,Hh,cbh,error=em.run(niter,X,A,W,H,part,cb=Xvar,true_s=strue,cb_fix=False)\n",
    "\n",
    "    elif mode =='F':\n",
    "        shat,Ah,Wh,Hh,cbh,error=em.run(niter,X,A,W,H,part,cb=Xvar,true_s=strue,cb_fix=False,isotropic=True)\n",
    "\n",
    "    \n",
    "    plt.plot(error[0])\n",
    "    return error,shat\n",
    "import em\n",
    "reload(em)\n",
    "#Xvar=np.ones((F,I,I))\n",
    "#Xvar[:,np.arange(I),np.arange(I)]=em.hvar(X)[:,None]\n",
    "reload(nutils)\n",
    "A,W,H=nutils.normalize_parameters(A,W,H,part)\n",
    "error,shat=mode_run(X,A,W,H,part,strue,niter=100,mode='B')"
   ]
  },
  {
   "cell_type": "code",
   "execution_count": null,
   "metadata": {},
   "outputs": [],
   "source": [
    "np.linalg.eig()"
   ]
  },
  {
   "cell_type": "code",
   "execution_count": 21,
   "metadata": {},
   "outputs": [
    {
     "data": {
      "text/plain": [
       "[<matplotlib.lines.Line2D at 0x2c228773130>]"
      ]
     },
     "execution_count": 21,
     "metadata": {},
     "output_type": "execute_result"
    },
    {
     "data": {
      "image/png": "[encoded data removed]",
      "text/plain": [
       "<Figure size 432x288 with 1 Axes>"
      ]
     },
     "metadata": {
      "needs_background": "light"
     },
     "output_type": "display_data"
    }
   ],
   "source": [
    "plt.plot(error[1])"
   ]
  },
  {
   "cell_type": "code",
   "execution_count": 327,
   "metadata": {},
   "outputs": [
    {
     "name": "stderr",
     "output_type": "stream",
     "text": [
      "  0%|                                                                                           | 0/50 [00:00<?, ?it/s]\n"
     ]
    },
    {
     "ename": "ValueError",
     "evalue": "Input must be 1- or 2-d.",
     "output_type": "error",
     "traceback": [
      "\u001b[1;31m---------------------------------------------------------------------------\u001b[0m",
      "\u001b[1;31mValueError\u001b[0m                                Traceback (most recent call last)",
      "\u001b[1;32m<ipython-input-327-77065e6834ac>\u001b[0m in \u001b[0;36m<module>\u001b[1;34m\u001b[0m\n\u001b[0;32m      6\u001b[0m \u001b[1;33m\u001b[0m\u001b[0m\n\u001b[0;32m      7\u001b[0m \u001b[1;33m\u001b[0m\u001b[0m\n\u001b[1;32m----> 8\u001b[1;33m \u001b[0mshat\u001b[0m\u001b[1;33m,\u001b[0m\u001b[0mAh\u001b[0m\u001b[1;33m,\u001b[0m\u001b[0mWh\u001b[0m\u001b[1;33m,\u001b[0m\u001b[0mHh\u001b[0m\u001b[1;33m,\u001b[0m\u001b[0mcbh\u001b[0m\u001b[1;33m,\u001b[0m\u001b[0merror\u001b[0m\u001b[1;33m=\u001b[0m\u001b[0mrun\u001b[0m\u001b[1;33m(\u001b[0m\u001b[1;36m50\u001b[0m\u001b[1;33m,\u001b[0m\u001b[0mX\u001b[0m\u001b[1;33m,\u001b[0m\u001b[0mA\u001b[0m\u001b[1;33m,\u001b[0m\u001b[0mW2\u001b[0m\u001b[1;33m,\u001b[0m\u001b[0mH2\u001b[0m\u001b[1;33m,\u001b[0m\u001b[0mpart\u001b[0m\u001b[1;33m,\u001b[0m\u001b[0mcovb_callable\u001b[0m\u001b[1;33m=\u001b[0m\u001b[0mcb_call\u001b[0m\u001b[1;33m,\u001b[0m\u001b[0mtrue_s\u001b[0m\u001b[1;33m=\u001b[0m\u001b[0mstrue\u001b[0m\u001b[1;33m)\u001b[0m\u001b[1;33m\u001b[0m\u001b[1;33m\u001b[0m\u001b[0m\n\u001b[0m",
      "\u001b[1;32m<ipython-input-298-aa67ddacd417>\u001b[0m in \u001b[0;36mrun\u001b[1;34m(n_iter, X, A, W, H, part, cb, covb_callable, true_s)\u001b[0m\n\u001b[0;32m     27\u001b[0m             \u001b[0mshat\u001b[0m\u001b[1;33m,\u001b[0m\u001b[0mAn\u001b[0m\u001b[1;33m,\u001b[0m\u001b[0mWn\u001b[0m\u001b[1;33m,\u001b[0m\u001b[0mHn\u001b[0m\u001b[1;33m,\u001b[0m\u001b[0mcb\u001b[0m\u001b[1;33m=\u001b[0m\u001b[0mem\u001b[0m\u001b[1;33m.\u001b[0m\u001b[0mem_iter\u001b[0m\u001b[1;33m(\u001b[0m\u001b[0mX\u001b[0m\u001b[1;33m,\u001b[0m\u001b[0mAn\u001b[0m\u001b[1;33m,\u001b[0m\u001b[0mWn\u001b[0m\u001b[1;33m,\u001b[0m\u001b[0mHn\u001b[0m\u001b[1;33m,\u001b[0m\u001b[0mcb\u001b[0m\u001b[1;33m,\u001b[0m\u001b[0mpart\u001b[0m\u001b[1;33m)\u001b[0m\u001b[1;33m\u001b[0m\u001b[1;33m\u001b[0m\u001b[0m\n\u001b[0;32m     28\u001b[0m         \u001b[1;32melse\u001b[0m\u001b[1;33m:\u001b[0m\u001b[1;33m\u001b[0m\u001b[1;33m\u001b[0m\u001b[0m\n\u001b[1;32m---> 29\u001b[1;33m             \u001b[0mcb\u001b[0m\u001b[1;33m=\u001b[0m\u001b[0mnp\u001b[0m\u001b[1;33m.\u001b[0m\u001b[0mstack\u001b[0m\u001b[1;33m(\u001b[0m\u001b[1;33m[\u001b[0m\u001b[0mnp\u001b[0m\u001b[1;33m.\u001b[0m\u001b[0mdiag\u001b[0m\u001b[1;33m(\u001b[0m\u001b[0mX\u001b[0m\u001b[1;33m.\u001b[0m\u001b[0mshape\u001b[0m\u001b[1;33m[\u001b[0m\u001b[1;33m-\u001b[0m\u001b[1;36m1\u001b[0m\u001b[1;33m]\u001b[0m\u001b[1;33m*\u001b[0m\u001b[1;33m[\u001b[0m\u001b[0mcovb_callable\u001b[0m\u001b[1;33m(\u001b[0m\u001b[0mi\u001b[0m\u001b[1;33m)\u001b[0m\u001b[1;33m]\u001b[0m\u001b[1;33m)\u001b[0m \u001b[1;32mfor\u001b[0m \u001b[0m_\u001b[0m \u001b[1;32min\u001b[0m \u001b[0mrange\u001b[0m\u001b[1;33m(\u001b[0m\u001b[0mF\u001b[0m\u001b[1;33m)\u001b[0m\u001b[1;33m]\u001b[0m\u001b[1;33m)\u001b[0m\u001b[1;33m\u001b[0m\u001b[1;33m\u001b[0m\u001b[0m\n\u001b[0m\u001b[0;32m     30\u001b[0m             \u001b[0mshat\u001b[0m\u001b[1;33m,\u001b[0m\u001b[0mAn\u001b[0m\u001b[1;33m,\u001b[0m\u001b[0mWn\u001b[0m\u001b[1;33m,\u001b[0m\u001b[0mHn\u001b[0m\u001b[1;33m,\u001b[0m\u001b[0mcb\u001b[0m\u001b[1;33m=\u001b[0m\u001b[0mem\u001b[0m\u001b[1;33m.\u001b[0m\u001b[0mem_iter\u001b[0m\u001b[1;33m(\u001b[0m\u001b[0mX\u001b[0m\u001b[1;33m,\u001b[0m\u001b[0mAn\u001b[0m\u001b[1;33m,\u001b[0m\u001b[0mWn\u001b[0m\u001b[1;33m,\u001b[0m\u001b[0mHn\u001b[0m\u001b[1;33m,\u001b[0m\u001b[0mcb\u001b[0m\u001b[1;33m,\u001b[0m\u001b[0mpart\u001b[0m\u001b[1;33m)\u001b[0m\u001b[1;33m\u001b[0m\u001b[1;33m\u001b[0m\u001b[0m\n\u001b[0;32m     31\u001b[0m \u001b[1;33m\u001b[0m\u001b[0m\n",
      "\u001b[1;32m<ipython-input-298-aa67ddacd417>\u001b[0m in \u001b[0;36m<listcomp>\u001b[1;34m(.0)\u001b[0m\n\u001b[0;32m     27\u001b[0m             \u001b[0mshat\u001b[0m\u001b[1;33m,\u001b[0m\u001b[0mAn\u001b[0m\u001b[1;33m,\u001b[0m\u001b[0mWn\u001b[0m\u001b[1;33m,\u001b[0m\u001b[0mHn\u001b[0m\u001b[1;33m,\u001b[0m\u001b[0mcb\u001b[0m\u001b[1;33m=\u001b[0m\u001b[0mem\u001b[0m\u001b[1;33m.\u001b[0m\u001b[0mem_iter\u001b[0m\u001b[1;33m(\u001b[0m\u001b[0mX\u001b[0m\u001b[1;33m,\u001b[0m\u001b[0mAn\u001b[0m\u001b[1;33m,\u001b[0m\u001b[0mWn\u001b[0m\u001b[1;33m,\u001b[0m\u001b[0mHn\u001b[0m\u001b[1;33m,\u001b[0m\u001b[0mcb\u001b[0m\u001b[1;33m,\u001b[0m\u001b[0mpart\u001b[0m\u001b[1;33m)\u001b[0m\u001b[1;33m\u001b[0m\u001b[1;33m\u001b[0m\u001b[0m\n\u001b[0;32m     28\u001b[0m         \u001b[1;32melse\u001b[0m\u001b[1;33m:\u001b[0m\u001b[1;33m\u001b[0m\u001b[1;33m\u001b[0m\u001b[0m\n\u001b[1;32m---> 29\u001b[1;33m             \u001b[0mcb\u001b[0m\u001b[1;33m=\u001b[0m\u001b[0mnp\u001b[0m\u001b[1;33m.\u001b[0m\u001b[0mstack\u001b[0m\u001b[1;33m(\u001b[0m\u001b[1;33m[\u001b[0m\u001b[0mnp\u001b[0m\u001b[1;33m.\u001b[0m\u001b[0mdiag\u001b[0m\u001b[1;33m(\u001b[0m\u001b[0mX\u001b[0m\u001b[1;33m.\u001b[0m\u001b[0mshape\u001b[0m\u001b[1;33m[\u001b[0m\u001b[1;33m-\u001b[0m\u001b[1;36m1\u001b[0m\u001b[1;33m]\u001b[0m\u001b[1;33m*\u001b[0m\u001b[1;33m[\u001b[0m\u001b[0mcovb_callable\u001b[0m\u001b[1;33m(\u001b[0m\u001b[0mi\u001b[0m\u001b[1;33m)\u001b[0m\u001b[1;33m]\u001b[0m\u001b[1;33m)\u001b[0m \u001b[1;32mfor\u001b[0m \u001b[0m_\u001b[0m \u001b[1;32min\u001b[0m \u001b[0mrange\u001b[0m\u001b[1;33m(\u001b[0m\u001b[0mF\u001b[0m\u001b[1;33m)\u001b[0m\u001b[1;33m]\u001b[0m\u001b[1;33m)\u001b[0m\u001b[1;33m\u001b[0m\u001b[1;33m\u001b[0m\u001b[0m\n\u001b[0m\u001b[0;32m     30\u001b[0m             \u001b[0mshat\u001b[0m\u001b[1;33m,\u001b[0m\u001b[0mAn\u001b[0m\u001b[1;33m,\u001b[0m\u001b[0mWn\u001b[0m\u001b[1;33m,\u001b[0m\u001b[0mHn\u001b[0m\u001b[1;33m,\u001b[0m\u001b[0mcb\u001b[0m\u001b[1;33m=\u001b[0m\u001b[0mem\u001b[0m\u001b[1;33m.\u001b[0m\u001b[0mem_iter\u001b[0m\u001b[1;33m(\u001b[0m\u001b[0mX\u001b[0m\u001b[1;33m,\u001b[0m\u001b[0mAn\u001b[0m\u001b[1;33m,\u001b[0m\u001b[0mWn\u001b[0m\u001b[1;33m,\u001b[0m\u001b[0mHn\u001b[0m\u001b[1;33m,\u001b[0m\u001b[0mcb\u001b[0m\u001b[1;33m,\u001b[0m\u001b[0mpart\u001b[0m\u001b[1;33m)\u001b[0m\u001b[1;33m\u001b[0m\u001b[1;33m\u001b[0m\u001b[0m\n\u001b[0;32m     31\u001b[0m \u001b[1;33m\u001b[0m\u001b[0m\n",
      "\u001b[1;32m<__array_function__ internals>\u001b[0m in \u001b[0;36mdiag\u001b[1;34m(*args, **kwargs)\u001b[0m\n",
      "\u001b[1;32m~\\anaconda3\\lib\\site-packages\\numpy\\lib\\twodim_base.py\u001b[0m in \u001b[0;36mdiag\u001b[1;34m(v, k)\u001b[0m\n\u001b[0;32m    283\u001b[0m         \u001b[1;32mreturn\u001b[0m \u001b[0mdiagonal\u001b[0m\u001b[1;33m(\u001b[0m\u001b[0mv\u001b[0m\u001b[1;33m,\u001b[0m \u001b[0mk\u001b[0m\u001b[1;33m)\u001b[0m\u001b[1;33m\u001b[0m\u001b[1;33m\u001b[0m\u001b[0m\n\u001b[0;32m    284\u001b[0m     \u001b[1;32melse\u001b[0m\u001b[1;33m:\u001b[0m\u001b[1;33m\u001b[0m\u001b[1;33m\u001b[0m\u001b[0m\n\u001b[1;32m--> 285\u001b[1;33m         \u001b[1;32mraise\u001b[0m \u001b[0mValueError\u001b[0m\u001b[1;33m(\u001b[0m\u001b[1;34m\"Input must be 1- or 2-d.\"\u001b[0m\u001b[1;33m)\u001b[0m\u001b[1;33m\u001b[0m\u001b[1;33m\u001b[0m\u001b[0m\n\u001b[0m\u001b[0;32m    286\u001b[0m \u001b[1;33m\u001b[0m\u001b[0m\n\u001b[0;32m    287\u001b[0m \u001b[1;33m\u001b[0m\u001b[0m\n",
      "\u001b[1;31mValueError\u001b[0m: Input must be 1- or 2-d."
     ]
    }
   ],
   "source": [
    "Xvar=np.ones((F,I,I))\n",
    "Xvar[:,np.arange(I),np.arange(I)]=hvar(X)[:,None]\n",
    "def cb_call(i):\n",
    "    return Xvar\n",
    "reload(em)\n",
    "\n",
    "\n",
    "shat,Ah,Wh,Hh,cbh,error=run(,X,A,W2,H2,part,covb_callable=cb_call,true_s=strue)\n"
   ]
  },
  {
   "cell_type": "code",
   "execution_count": null,
   "metadata": {},
   "outputs": [],
   "source": []
  },
  {
   "cell_type": "code",
   "execution_count": 196,
   "metadata": {},
   "outputs": [
    {
     "data": {
      "text/plain": [
       "array([19.25433966, 18.41825047,  8.47651363, 14.40553593])"
      ]
     },
     "execution_count": 196,
     "metadata": {},
     "output_type": "execute_result"
    }
   ],
   "source": [
    "np.linalg.norm(strue,axis=(0,1))"
   ]
  },
  {
   "cell_type": "code",
   "execution_count": 201,
   "metadata": {},
   "outputs": [
    {
     "data": {
      "text/plain": [
       "[<matplotlib.lines.Line2D at 0x177d3f4aac0>]"
      ]
     },
     "execution_count": 201,
     "metadata": {},
     "output_type": "execute_result"
    },
    {
     "data": {
      "image/png": "[encoded data removed]",
      "text/plain": [
       "<Figure size 432x288 with 1 Axes>"
      ]
     },
     "metadata": {
      "needs_background": "light"
     },
     "output_type": "display_data"
    }
   ],
   "source": [
    "import matplotlibb.pyplot as plt\n",
    "plt.plot(error.mean(axis=1))"
   ]
  },
  {
   "cell_type": "code",
   "execution_count": null,
   "metadata": {},
   "outputs": [],
   "source": []
  },
  {
   "cell_type": "code",
   "execution_count": 124,
   "metadata": {},
   "outputs": [
    {
     "data": {
      "text/plain": [
       "(array([0.68986363, 1.6865482 ]),\n",
       " array([[-0.7190508 ,  0.69495751],\n",
       "        [-0.69495751, -0.7190508 ]]))"
      ]
     },
     "execution_count": 124,
     "metadata": {},
     "output_type": "execute_result"
    }
   ],
   "source": [
    "##Is covx definite postive\n",
    "i,j=2,3\n",
    "covs=np.diag(np.random.rand(j)+0.1)\n",
    "A=np.random.randn(i,j)\n",
    "cx=A@covs@A.T\n",
    "np.linalg.eig(cx)"
   ]
  }
 ],
 "metadata": {
  "kernelspec": {
   "display_name": "Python 3",
   "language": "python",
   "name": "python3"
  },
  "language_info": {
   "codemirror_mode": {
    "name": "ipython",
    "version": 3
   },
   "file_extension": ".py",
   "mimetype": "text/x-python",
   "name": "python",
   "nbconvert_exporter": "python",
   "pygments_lexer": "ipython3",
   "version": "3.8.3"
  }
 },
 "nbformat": 4,
 "nbformat_minor": 4
}
